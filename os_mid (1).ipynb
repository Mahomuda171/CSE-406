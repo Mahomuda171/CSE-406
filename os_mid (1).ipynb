{
  "nbformat": 4,
  "nbformat_minor": 0,
  "metadata": {
    "colab": {
      "provenance": []
    },
    "kernelspec": {
      "name": "python3",
      "display_name": "Python 3"
    },
    "language_info": {
      "name": "python"
    }
  },
  "cells": [
    {
      "cell_type": "code",
      "execution_count": 31,
      "metadata": {
        "colab": {
          "base_uri": "https://localhost:8080/"
        },
        "id": "1l84x7pX-sGJ",
        "outputId": "fa70159b-2d03-485e-84b6-2abf1c242db2"
      },
      "outputs": [
        {
          "output_type": "stream",
          "name": "stdout",
          "text": [
            "num of processor: 4\n",
            "process num: 1\n",
            "arrival time for process 1: 0\n",
            "burst time for process 1: 6\n",
            "process num: 2\n",
            "arrival time for process 2: 1\n",
            "burst time for process 2: 8\n",
            "process num: 3\n",
            "arrival time for process 3: 2\n",
            "burst time for process 3: 7\n",
            "process num: 4\n",
            "arrival time for process 4: 3\n",
            "burst time for process 4: 3\n",
            "\n",
            "PID  |  AT  | BT | CT | TAT | WT\n",
            "1 | 0 | 6 | 6 | 6 | 0\n",
            "2 | 1 | 8 | 24 | 23 | 15\n",
            "3 | 2 | 7 | 16 | 14 | 7\n",
            "4 | 3 | 3 | 9 | 6 | 3\n",
            "\n",
            "Average TAT: 12.25\n",
            "Average WT: 6.25\n"
          ]
        }
      ],
      "source": [
        "n= int(input(\"num of processor: \"))\n",
        "proc = []\n",
        "\n",
        "for i in range(n):\n",
        "  pid = int(input(f\"process num: \"))\n",
        "  pid=i+1\n",
        "  at = int(input(f\"arrival time for process {pid}: \"))\n",
        "  bt = int(input(f\"burst time for process {pid}: \"))\n",
        "  proc.append({\"pid\": pid,\"at\": at, \"bt\": bt})\n",
        "proc.sort(key=lambda x: x[\"at\"])\n",
        "t = 0\n",
        "ex_order = []\n",
        "curr_proc = {}\n",
        "ex_process=0\n",
        "while (ex_process < n):\n",
        "  arr_process = [p for p in proc if p[\"at\"] <= t and \"ct\" not in p]\n",
        "  arr_process.sort(key=lambda x: x['bt'])\n",
        "  currt_proc = arr_process[0]\n",
        "  t += currt_proc['bt']\n",
        "  currt_proc['ct'] = t\n",
        "  currt_proc['tat'] = t-currt_proc['at']\n",
        "  currt_proc['wt']= currt_proc['tat']-currt_proc['bt']\n",
        "  ex_process += 1\n",
        "  ex_order.append(currt_proc['pid'])\n",
        "avg_tat = sum(p['tat'] for p in proc)/n\n",
        "avg_wt = sum(p['wt'] for p in proc)/n\n",
        "\n",
        "print(\"\\nPID  |  AT  | BT | CT | TAT | WT\")\n",
        "for p in sorted (proc, key=lambda x: x[\"pid\"]):\n",
        "  print(f\"{p['pid']} | {p['at']} | {p['bt']} | {p['ct']} | {p['tat']} | {p['wt']}\")\n",
        "\n",
        "print(\"\\nAverage TAT:\", avg_tat)\n",
        "print(\"Average WT:\", avg_wt)"
      ]
    },
    {
      "cell_type": "code",
      "source": [
        "req_seq = []\n",
        "n = int(input(\"num of request seq: \"))\n",
        "for i in range (n):\n",
        "  req_seq.append(int(input(f'request seq{i+1} : ')))\n",
        "cur_head = int(input(\"head: \"))\n",
        "seek = 0\n",
        "req_seq.sort()\n",
        "while req_seq:\n",
        "  dist = {req: abs(req - cur_head) for req in req_seq}\n",
        "  min_dist = min(dist, key=dist.get)\n",
        "  seek += dist[min_dist]\n",
        "  req_seq.remove(min_dist)\n",
        "  cur_head = min_dist\n",
        "print(\"Total seek operation: \",seek)"
      ],
      "metadata": {
        "colab": {
          "base_uri": "https://localhost:8080/"
        },
        "id": "7MoxMCIOL85u",
        "outputId": "5e87bfe6-07c1-4f45-d5e6-2158a9b712a4"
      },
      "execution_count": 33,
      "outputs": [
        {
          "output_type": "stream",
          "name": "stdout",
          "text": [
            "num of request seq: 8\n",
            "request seq1 : 98\n",
            "request seq2 : 183\n",
            "request seq3 : 37\n",
            "request seq4 : 122\n",
            "request seq5 : 14\n",
            "request seq6 : 124\n",
            "request seq7 : 65\n",
            "request seq8 : 67\n",
            "head: 53\n",
            "Total seek operation:  236\n"
          ]
        }
      ]
    },
    {
      "cell_type": "code",
      "source": [],
      "metadata": {
        "id": "pZBDB1qJAinx"
      },
      "execution_count": null,
      "outputs": []
    }
  ]
}