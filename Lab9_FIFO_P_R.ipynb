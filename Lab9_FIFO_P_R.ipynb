{
  "nbformat": 4,
  "nbformat_minor": 0,
  "metadata": {
    "colab": {
      "provenance": []
    },
    "kernelspec": {
      "name": "python3",
      "display_name": "Python 3"
    },
    "language_info": {
      "name": "python"
    }
  },
  "cells": [
    {
      "cell_type": "code",
      "source": [
        "def page_replacement(page_ref, frame_size):\n",
        "    frames = []\n",
        "    recent = []\n",
        "    faults = 0\n",
        "\n",
        "    print(f\"Page References: {page_ref}\")\n",
        "    print(f\"Frame Size: {frame_size}\")\n",
        "    print(\"\\nRef | Frames | Fault/Hit\")\n",
        "    print(\"-\" * 25)\n",
        "\n",
        "    for page in page_ref:\n",
        "        if page in frames:\n",
        "            recent.remove(page)\n",
        "            recent.append(page)\n",
        "            print(f\"{page:3} | {frames} | Hit\")\n",
        "        else:\n",
        "            faults += 1\n",
        "            if len(frames) < frame_size:\n",
        "                frames.append(page)\n",
        "                recent.append(page)\n",
        "                print(f\"{page:3} | {frames} | Miss\")\n",
        "            else:\n",
        "                n_page = recent.pop(0)\n",
        "                n_index = frames.index(n_page)\n",
        "                frames[n_index] = page\n",
        "                recent.append(page)\n",
        "                print(f\"{page:3} | {frames} | Miss\")\n",
        "\n",
        "    print(\"-\" * 25)\n",
        "    print(f\"Total Page Faults: {faults}\")\n",
        "\n",
        "pages = [3, 2, 0, 1, 0, 5, 9, 1, 2]\n",
        "size = 3\n",
        "\n",
        "page_replacement(pages, size)"
      ],
      "metadata": {
        "colab": {
          "base_uri": "https://localhost:8080/"
        },
        "id": "8Rd2hd8dUNkq",
        "outputId": "291c3df4-d1b6-4fee-f845-2a1fec3c2d2b"
      },
      "execution_count": 7,
      "outputs": [
        {
          "output_type": "stream",
          "name": "stdout",
          "text": [
            "Page References: [3, 2, 0, 1, 0, 5, 9, 1, 2]\n",
            "Frame Size: 3\n",
            "\n",
            "Ref | Frames | Fault/Hit\n",
            "-------------------------\n",
            "  3 | [3] | Miss\n",
            "  2 | [3, 2] | Miss\n",
            "  0 | [3, 2, 0] | Miss\n",
            "  1 | [1, 2, 0] | Miss\n",
            "  0 | [1, 2, 0] | Hit\n",
            "  5 | [1, 5, 0] | Miss\n",
            "  9 | [9, 5, 0] | Miss\n",
            "  1 | [9, 5, 1] | Miss\n",
            "  2 | [9, 2, 1] | Miss\n",
            "-------------------------\n",
            "Total Page Faults: 8\n"
          ]
        }
      ]
    }
  ]
}