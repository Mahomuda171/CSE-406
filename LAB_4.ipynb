{
  "nbformat": 4,
  "nbformat_minor": 0,
  "metadata": {
    "colab": {
      "provenance": []
    },
    "kernelspec": {
      "name": "python3",
      "display_name": "Python 3"
    },
    "language_info": {
      "name": "python"
    }
  },
  "cells": [
    {
      "cell_type": "code",
      "execution_count": 23,
      "metadata": {
        "colab": {
          "base_uri": "https://localhost:8080/"
        },
        "id": "tiNyUGp80YOZ",
        "outputId": "4f15f73f-50a5-4066-dfb5-a4e8b1935da4"
      },
      "outputs": [
        {
          "output_type": "stream",
          "name": "stdout",
          "text": [
            "Enter num of processors: 5\n",
            "Enter process num : 1\n",
            "Enter priority for process p1: 2\n",
            "Enter arrival time for process p1: 0\n",
            "Enter burst time for process p1: 11\n",
            "Enter process num : 2\n",
            "Enter priority for process p2: 0\n",
            "Enter arrival time for process p2: 5\n",
            "Enter burst time for process p2: 28\n",
            "Enter process num : 3\n",
            "Enter priority for process p3: 3\n",
            "Enter arrival time for process p3: 12\n",
            "Enter burst time for process p3: 2\n",
            "Enter process num : 4\n",
            "Enter priority for process p4: 1\n",
            "Enter arrival time for process p4: 2\n",
            "Enter burst time for process p4: 10\n",
            "Enter process num : 5\n",
            "Enter priority for process p5: 4\n",
            "Enter arrival time for process p5: 9\n",
            "Enter burst time for process p5: 16\n",
            "\n",
            "PID | p | At | BT | CT | TAT | WT\n",
            "1\t2\t0\t11\t11\t11\t0\n",
            "2\t0\t5\t28\t39\t34\t6\n",
            "4\t1\t2\t10\t49\t47\t37\n",
            "3\t3\t12\t2\t51\t39\t37\n",
            "5\t4\t9\t16\t67\t58\t42\n",
            "\n",
            "Average Turnaround Time (TAT): 37.80\n",
            "Average Waiting Time (WT): 24.40\n"
          ]
        }
      ],
      "source": [
        "n= int(input(\"Enter num of processors: \"))\n",
        "proc = []\n",
        "#pid, at, bt\n",
        "for i in range(n):\n",
        "  pid = int(input(f\"Enter process num : \"))\n",
        "  pid=i+1\n",
        "  p = int(input(f\"Enter priority for process p{pid}: \"))\n",
        "  at = int(input(f\"Enter arrival time for process p{pid}: \"))\n",
        "  bt = int(input(f\"Enter burst time for process p{pid}: \"))\n",
        "  proc.append({\"pid\": pid,\"p\": p, \"at\": at, \"bt\": bt})\n",
        "  proc.sort(key=lambda x: x[\"at\"])\n",
        "\n",
        "time=0\n",
        "com_proc=[]\n",
        "while proc:\n",
        "  arrive = [p for p in proc if p[\"at\"] <= time]\n",
        "  if not arrive:\n",
        "    time += 1\n",
        "    continue\n",
        "  prio = min(arrive, key=lambda x: (x[\"p\"],x[\"at\"])) # Lowest the value Highest the priority\n",
        "\n",
        "  current = prio\n",
        "  pid,p,at,bt = current[\"pid\"], current[\"p\"], current[\"at\"], current[\"bt\"]\n",
        "\n",
        "  time += bt\n",
        "  ct = time\n",
        "  tat = ct - at\n",
        "  wt = tat - bt\n",
        "\n",
        "  com_proc.append({\"pid\": pid, \"p\": p, \"at\": at, \"bt\": bt, \"ct\": ct, \"tat\": tat, \"wt\": wt})\n",
        "  proc.remove(current)\n",
        "\n",
        "print(\"\\nPID | p | At | BT | CT | TAT | WT\")\n",
        "for p1 in com_proc:\n",
        "  print(\"\\t\". join (map(str, [p1[\"pid\"], p1[\"p\"], p1[\"at\"], p1[\"bt\"], p1[\"ct\"], p1[\"tat\"], p1[\"wt\"]])))\n",
        "\n",
        "avg_tat = sum(p[\"tat\"] for p in com_proc) / n\n",
        "avg_wt = sum(p[\"wt\"] for p in com_proc) / n\n",
        "\n",
        "print(f\"\\nAverage Turnaround Time (TAT): {avg_tat:.2f}\")\n",
        "print(f\"Average Waiting Time (WT): {avg_wt:.2f}\")"
      ]
    }
  ]
}