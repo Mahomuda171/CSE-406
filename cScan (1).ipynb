{
  "nbformat": 4,
  "nbformat_minor": 0,
  "metadata": {
    "colab": {
      "provenance": []
    },
    "kernelspec": {
      "name": "python3",
      "display_name": "Python 3"
    },
    "language_info": {
      "name": "python"
    }
  },
  "cells": [
    {
      "cell_type": "code",
      "execution_count": 2,
      "metadata": {
        "colab": {
          "base_uri": "https://localhost:8080/"
        },
        "id": "mFv82TP7NUv4",
        "outputId": "d1ad0ae4-90dd-445f-8ad9-7d23cb9b526c"
      },
      "outputs": [
        {
          "output_type": "stream",
          "name": "stdout",
          "text": [
            "Total seek time: 181\n"
          ]
        }
      ],
      "source": [
        "def disk_scheduling(arr, head, direction):\n",
        "    seek_time = 0\n",
        "    try:\n",
        "        idx = arr.index(head)\n",
        "    except ValueError:\n",
        "        print(f\"Head position {head} not found in requests array!\")\n",
        "        return -1\n",
        "\n",
        "    if direction == \"left\":\n",
        "        for i in range(idx-1, -1, -1):\n",
        "            seek_time += abs(head - arr[i])\n",
        "            head = arr[i]\n",
        "\n",
        "        for i in range(len(arr)-1, idx, -1):\n",
        "            seek_time += abs(head - arr[i])\n",
        "            head = arr[i]\n",
        "\n",
        "    elif direction == \"right\":\n",
        "\n",
        "        for i in range(idx+1, len(arr)):\n",
        "            seek_time += abs(head - arr[i])\n",
        "            head = arr[i]\n",
        "\n",
        "        for i in range(0, idx):\n",
        "            seek_time += abs(head - arr[i])\n",
        "            head = arr[i]\n",
        "\n",
        "    else:\n",
        "        print(\"Invalid direction! Use 'left' or 'right'\")\n",
        "        return -1\n",
        "\n",
        "    return seek_time\n",
        "\n",
        "\n",
        "requests = [14, 20, 29, 40, 50, 110]\n",
        "initial_head = 29\n",
        "direction = \"left\"\n",
        "\n",
        "result = disk_scheduling(requests, initial_head, direction)\n",
        "print(f\"Total seek time: {result}\")"
      ]
    }
  ]
}