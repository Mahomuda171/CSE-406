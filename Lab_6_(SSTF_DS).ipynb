{
  "nbformat": 4,
  "nbformat_minor": 0,
  "metadata": {
    "colab": {
      "provenance": []
    },
    "kernelspec": {
      "name": "python3",
      "display_name": "Python 3"
    },
    "language_info": {
      "name": "python"
    }
  },
  "cells": [
    {
      "cell_type": "code",
      "execution_count": 8,
      "metadata": {
        "colab": {
          "base_uri": "https://localhost:8080/"
        },
        "id": "r_uyQba5DRHg",
        "outputId": "ddd16ee5-b683-459f-afb4-4665f60d2204"
      },
      "outputs": [
        {
          "output_type": "stream",
          "name": "stdout",
          "text": [
            "Enter num of request seq: 6\n",
            "Enter request seq1 : 176\n",
            "Enter request seq2 : 39\n",
            "Enter request seq3 : 49\n",
            "Enter request seq4 : 114\n",
            "Enter request seq5 : 90\n",
            "Enter request seq6 : 26\n",
            "Enter head posi: 39\n",
            "Total seek operation:  183\n"
          ]
        }
      ],
      "source": [
        "n = int(input(\"Enter num of request seq: \"))\n",
        "req_seq = []\n",
        "\n",
        "for i in range (n):\n",
        "  req_seq.append(int(input(f'Enter request seq{i+1} : ')))\n",
        "\n",
        "cur_head = int(input(\"Enter head posi: \"))\n",
        "total_seek = 0\n",
        "req_seq.sort()\n",
        "\n",
        "while req_seq:\n",
        "  distance = {req: abs(req - cur_head) for req in req_seq}\n",
        "  min_distances = min(distance, key=distance.get)\n",
        "  total_seek += distance[min_distances]\n",
        "  req_seq.remove(min_distances)\n",
        "  cur_head = min_distances\n",
        "print(\"Total seek operation: \", total_seek)"
      ]
    }
  ]
}