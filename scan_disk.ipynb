{
  "nbformat": 4,
  "nbformat_minor": 0,
  "metadata": {
    "colab": {
      "provenance": []
    },
    "kernelspec": {
      "name": "python3",
      "display_name": "Python 3"
    },
    "language_info": {
      "name": "python"
    }
  },
  "cells": [
    {
      "cell_type": "code",
      "execution_count": null,
      "metadata": {
        "id": "o6kSf8X-5ovs"
      },
      "outputs": [],
      "source": [
        "req = list(map(int, input(\"Enter the disk requests: \").split()))\n",
        "req.sort()\n",
        "print(\"Sorted requests:\", req)\n",
        "t_mov = 0\n",
        "sequence = []\n",
        "\n",
        "head = int(input(\"Enter head: \"))\n",
        "direction = input(\"Enter head movement dirct (left/right): \").lower()\n",
        "\n",
        "while direction not in [\"left\", \"right\"]:\n",
        "    direction = input(\"Invalid input! \").lower()\n",
        "\n",
        "\n",
        "while req:\n",
        "    if direction == \"left\":\n",
        "        curr = [r for r in req if r <= head]\n",
        "        if curr:\n",
        "            closest = max(curr)\n",
        "        else:\n",
        "\n",
        "            closest = min(req)\n",
        "    else:\n",
        "        curr = [r for r in req if r >= head]\n",
        "        if curr:\n",
        "            closest = min(curr)\n",
        "        else:\n",
        "            closest = max(req)\n",
        "\n",
        "    t_mov += abs(head - closest)\n",
        "    head = closest\n",
        "    sequence.append(head)\n",
        "    req.remove(closest)\n",
        "\n",
        "print(\"Seek Sequence:\", sequence)\n",
        "print(\"Total head movement:\", t_mov)"
      ]
    }
  ]
}