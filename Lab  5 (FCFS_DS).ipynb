{
  "nbformat": 4,
  "nbformat_minor": 0,
  "metadata": {
    "colab": {
      "provenance": []
    },
    "kernelspec": {
      "name": "python3",
      "display_name": "Python 3"
    },
    "language_info": {
      "name": "python"
    }
  },
  "cells": [
    {
      "cell_type": "code",
      "execution_count": 4,
      "metadata": {
        "colab": {
          "base_uri": "https://localhost:8080/"
        },
        "id": "tuyA4DVRzWY1",
        "outputId": "6ccfb3c8-ea01-44e9-a77b-6a3398defca4"
      },
      "outputs": [
        {
          "output_type": "stream",
          "name": "stdout",
          "text": [
            "enter num of reqs:5\n",
            "enter request 1 : 176\n",
            "enter request 2 : 39\n",
            "enter request 3 : 114\n",
            "enter request 4 : 90\n",
            "enter request 5 : 26\n",
            "enter the head position:39\n",
            "seek seq:176 39(skipped)114 90 26 \n",
            "total number of seek operations = 287\n"
          ]
        }
      ],
      "source": [
        "def fcfs_disk(req, head):\n",
        "    total_seek = 0\n",
        "    current = head\n",
        "    print(\"seek seq:\", end=\"\")\n",
        "    for i in requests:\n",
        "        if i==head:\n",
        "          print(f\"{i}(skipped)\", end=\"\")\n",
        "          head= None\n",
        "          continue\n",
        "        dist = abs(current - i)\n",
        "        total_seek += dist\n",
        "        current = i\n",
        "        print(i, end=\" \")\n",
        "\n",
        "    print(\"\\ntotal number of seek operations =\", total_seek)\n",
        "\n",
        "n=(int(input(\"enter num of reqs:\")))\n",
        "\n",
        "requests = []\n",
        "for i in range(n):\n",
        "  req=int(input(f\"enter request {i+1} : \"))\n",
        "  requests.append(req)\n",
        "head = int(input(\"enter the head position:\"))\n",
        "\n",
        "fcfs_disk(requests, head)"
      ]
    },
    {
      "cell_type": "code",
      "source": [],
      "metadata": {
        "id": "RDrz8kpOJL4G"
      },
      "execution_count": null,
      "outputs": []
    }
  ]
}